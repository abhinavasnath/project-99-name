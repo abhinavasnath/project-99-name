{
  "nbformat": 4,
  "nbformat_minor": 0,
  "metadata": {
    "colab": {
      "provenance": [],
      "authorship_tag": "ABX9TyNpxiMhV+PG6ZHyD5obcbtE",
      "include_colab_link": true
    },
    "kernelspec": {
      "name": "python3",
      "display_name": "Python 3"
    },
    "language_info": {
      "name": "python"
    }
  },
  "cells": [
    {
      "cell_type": "markdown",
      "metadata": {
        "id": "view-in-github",
        "colab_type": "text"
      },
      "source": [
        "<a href=\"https://colab.research.google.com/github/abhinavasnath/project-99-name/blob/main/PROJECT_99_%2Cname_loop.ipynb\" target=\"_parent\"><img src=\"https://colab.research.google.com/assets/colab-badge.svg\" alt=\"Open In Colab\"/></a>"
      ]
    },
    {
      "cell_type": "code",
      "execution_count": 18,
      "metadata": {
        "colab": {
          "base_uri": "https://localhost:8080/"
        },
        "id": "_m-yxlo5eKvE",
        "outputId": "41ea306e-8075-4167-bfe3-23ad38a4fc97"
      },
      "outputs": [
        {
          "output_type": "stream",
          "name": "stdout",
          "text": [
            "enter your name in upper case:ABHINAV\n",
            "A * * * * * * \n",
            "* B * * * * * \n",
            "* * H * * * * \n",
            "* * * I * * * \n",
            "* * * * N * * \n",
            "* * * * * A * \n",
            "* * * * * * V \n"
          ]
        }
      ],
      "source": [
        "name=input(\"enter your name in upper case:\")\n",
        "num=len(name)\n",
        "for i in range(0,num):\n",
        "  for j in range(0,num):\n",
        "   if i==j:\n",
        "    print(name[i],end=\" \")\n",
        "   else:\n",
        "    print(\"*\",end=\" \")\n",
        "  print()\n"
      ]
    }
  ]
}